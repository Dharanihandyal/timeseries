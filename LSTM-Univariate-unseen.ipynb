{
 "cells": [
  {
   "cell_type": "code",
   "execution_count": 1,
   "metadata": {},
   "outputs": [],
   "source": [
    "    import math\n",
    "    import pandas_datareader as web ##read in financial data\n",
    "    import numpy as np\n",
    "    import pandas as pd\n",
    "    from sklearn.preprocessing import MinMaxScaler\n",
    "\n",
    "    import matplotlib.pyplot as plt\n",
    "    plt.style.use('fivethirtyeight')"
   ]
  },
  {
   "cell_type": "code",
   "execution_count": 14,
   "metadata": {},
   "outputs": [],
   "source": [
    "from keras.models import Sequential\n",
    "from keras.layers.core import Dense, Activation, Dropout\n",
    "from keras.optimizers import Adam"
   ]
  },
  {
   "cell_type": "code",
   "execution_count": null,
   "metadata": {},
   "outputs": [],
   "source": []
  },
  {
   "cell_type": "code",
   "execution_count": 3,
   "metadata": {},
   "outputs": [],
   "source": [
    "df = web.DataReader('GE', data_source='yahoo', \n",
    "                    start='2012-01-01', end='2019-12-31') "
   ]
  },
  {
   "cell_type": "code",
   "execution_count": 4,
   "metadata": {},
   "outputs": [
    {
     "data": {
      "text/html": [
       "<div>\n",
       "<style scoped>\n",
       "    .dataframe tbody tr th:only-of-type {\n",
       "        vertical-align: middle;\n",
       "    }\n",
       "\n",
       "    .dataframe tbody tr th {\n",
       "        vertical-align: top;\n",
       "    }\n",
       "\n",
       "    .dataframe thead th {\n",
       "        text-align: right;\n",
       "    }\n",
       "</style>\n",
       "<table border=\"1\" class=\"dataframe\">\n",
       "  <thead>\n",
       "    <tr style=\"text-align: right;\">\n",
       "      <th></th>\n",
       "      <th>High</th>\n",
       "      <th>Low</th>\n",
       "      <th>Open</th>\n",
       "      <th>Close</th>\n",
       "      <th>Volume</th>\n",
       "      <th>Adj Close</th>\n",
       "    </tr>\n",
       "    <tr>\n",
       "      <th>Date</th>\n",
       "      <th></th>\n",
       "      <th></th>\n",
       "      <th></th>\n",
       "      <th></th>\n",
       "      <th></th>\n",
       "      <th></th>\n",
       "    </tr>\n",
       "  </thead>\n",
       "  <tbody>\n",
       "    <tr>\n",
       "      <th>2012-01-03</th>\n",
       "      <td>17.788462</td>\n",
       "      <td>17.528847</td>\n",
       "      <td>17.528847</td>\n",
       "      <td>17.653847</td>\n",
       "      <td>61054800.0</td>\n",
       "      <td>13.605167</td>\n",
       "    </tr>\n",
       "    <tr>\n",
       "      <th>2012-01-04</th>\n",
       "      <td>17.884615</td>\n",
       "      <td>17.576923</td>\n",
       "      <td>17.605770</td>\n",
       "      <td>17.846153</td>\n",
       "      <td>44464800.0</td>\n",
       "      <td>13.753371</td>\n",
       "    </tr>\n",
       "    <tr>\n",
       "      <th>2012-01-05</th>\n",
       "      <td>17.884615</td>\n",
       "      <td>17.586538</td>\n",
       "      <td>17.750000</td>\n",
       "      <td>17.836538</td>\n",
       "      <td>47651900.0</td>\n",
       "      <td>13.745956</td>\n",
       "    </tr>\n",
       "    <tr>\n",
       "      <th>2012-01-06</th>\n",
       "      <td>18.067308</td>\n",
       "      <td>17.846153</td>\n",
       "      <td>18.009615</td>\n",
       "      <td>17.932692</td>\n",
       "      <td>53112100.0</td>\n",
       "      <td>13.820059</td>\n",
       "    </tr>\n",
       "    <tr>\n",
       "      <th>2012-01-09</th>\n",
       "      <td>18.153847</td>\n",
       "      <td>17.846153</td>\n",
       "      <td>18.019230</td>\n",
       "      <td>18.134615</td>\n",
       "      <td>48866800.0</td>\n",
       "      <td>13.975679</td>\n",
       "    </tr>\n",
       "    <tr>\n",
       "      <th>2012-01-10</th>\n",
       "      <td>18.317308</td>\n",
       "      <td>17.903847</td>\n",
       "      <td>18.278847</td>\n",
       "      <td>18.000000</td>\n",
       "      <td>61718100.0</td>\n",
       "      <td>13.871931</td>\n",
       "    </tr>\n",
       "    <tr>\n",
       "      <th>2012-01-11</th>\n",
       "      <td>18.221153</td>\n",
       "      <td>17.788462</td>\n",
       "      <td>17.836538</td>\n",
       "      <td>18.153847</td>\n",
       "      <td>49783000.0</td>\n",
       "      <td>13.990497</td>\n",
       "    </tr>\n",
       "    <tr>\n",
       "      <th>2012-01-12</th>\n",
       "      <td>18.269230</td>\n",
       "      <td>18.038462</td>\n",
       "      <td>18.230770</td>\n",
       "      <td>18.201923</td>\n",
       "      <td>40516100.0</td>\n",
       "      <td>14.027551</td>\n",
       "    </tr>\n",
       "  </tbody>\n",
       "</table>\n",
       "</div>"
      ],
      "text/plain": [
       "                 High        Low       Open      Close      Volume  Adj Close\n",
       "Date                                                                         \n",
       "2012-01-03  17.788462  17.528847  17.528847  17.653847  61054800.0  13.605167\n",
       "2012-01-04  17.884615  17.576923  17.605770  17.846153  44464800.0  13.753371\n",
       "2012-01-05  17.884615  17.586538  17.750000  17.836538  47651900.0  13.745956\n",
       "2012-01-06  18.067308  17.846153  18.009615  17.932692  53112100.0  13.820059\n",
       "2012-01-09  18.153847  17.846153  18.019230  18.134615  48866800.0  13.975679\n",
       "2012-01-10  18.317308  17.903847  18.278847  18.000000  61718100.0  13.871931\n",
       "2012-01-11  18.221153  17.788462  17.836538  18.153847  49783000.0  13.990497\n",
       "2012-01-12  18.269230  18.038462  18.230770  18.201923  40516100.0  14.027551"
      ]
     },
     "execution_count": 4,
     "metadata": {},
     "output_type": "execute_result"
    }
   ],
   "source": [
    "df.head(n=8)"
   ]
  },
  {
   "cell_type": "code",
   "execution_count": null,
   "metadata": {},
   "outputs": [],
   "source": []
  },
  {
   "cell_type": "code",
   "execution_count": 5,
   "metadata": {},
   "outputs": [],
   "source": [
    "#Create a new dataframe with only the 'Open' column\n",
    "data = df.filter(['Open']) ##we store our open column\n",
    "#Converting the dataframe to a numpy array\n",
    "dataset = data.values\n"
   ]
  },
  {
   "cell_type": "code",
   "execution_count": 6,
   "metadata": {},
   "outputs": [
    {
     "data": {
      "text/plain": [
       "(2012, 1)"
      ]
     },
     "execution_count": 6,
     "metadata": {},
     "output_type": "execute_result"
    }
   ],
   "source": [
    "#dataset.shape"
   ]
  },
  {
   "cell_type": "code",
   "execution_count": 7,
   "metadata": {},
   "outputs": [],
   "source": [
    "scaler = MinMaxScaler(feature_range=(0, 1))\n",
    "scaled_data = scaler.fit_transform(dataset)#values from 0 to 1\n"
   ]
  },
  {
   "cell_type": "code",
   "execution_count": 27,
   "metadata": {},
   "outputs": [],
   "source": [
    "train= scaled_data[:int(df.shape[0]*0.8)] #80% train\n",
    "valid = scaled_data[int(df.shape[0]*0.8):]"
   ]
  },
  {
   "cell_type": "code",
   "execution_count": 9,
   "metadata": {},
   "outputs": [
    {
     "name": "stdout",
     "output_type": "stream",
     "text": [
      "1609 403\n"
     ]
    }
   ],
   "source": [
    "train_size = int(len(dataset) * 0.80)\n",
    "test_size = len(dataset) - train_size\n",
    "train, test = dataset[0:train_size,:], dataset[train_size:len(dataset),:]\n",
    "print(len(train), len(test))"
   ]
  },
  {
   "cell_type": "code",
   "execution_count": null,
   "metadata": {},
   "outputs": [],
   "source": []
  },
  {
   "cell_type": "code",
   "execution_count": 10,
   "metadata": {},
   "outputs": [],
   "source": [
    "def create_dataset(d, look_back=1):\n",
    "    dataX, dataY = [], []\n",
    "    for i in range(len(d)-look_back-1):\n",
    "        a = d[i:(i+look_back), 0]\n",
    "        dataX.append(a)\n",
    "        dataY.append(d[i + look_back, 0])\n",
    "    return np.array(dataX), np.array(dataY)"
   ]
  },
  {
   "cell_type": "code",
   "execution_count": 11,
   "metadata": {},
   "outputs": [],
   "source": [
    "# reshape into X=t and Y=t+1\n",
    "look_back = 1\n",
    "trainX, trainY = create_dataset(train, look_back)\n",
    "testX, testY = create_dataset(test, look_back)"
   ]
  },
  {
   "cell_type": "code",
   "execution_count": null,
   "metadata": {},
   "outputs": [],
   "source": []
  },
  {
   "cell_type": "code",
   "execution_count": 12,
   "metadata": {},
   "outputs": [],
   "source": [
    "trainX = np.reshape(trainX, (trainX.shape[0], 1, trainX.shape[1]))\n",
    "testX = np.reshape(testX, (testX.shape[0], 1, testX.shape[1]))"
   ]
  },
  {
   "cell_type": "code",
   "execution_count": null,
   "metadata": {},
   "outputs": [],
   "source": []
  },
  {
   "cell_type": "code",
   "execution_count": 16,
   "metadata": {},
   "outputs": [
    {
     "name": "stderr",
     "output_type": "stream",
     "text": [
      "/Users/apple/anaconda3/lib/python3.7/site-packages/ipykernel_launcher.py:6: UserWarning: The `input_dim` and `input_length` arguments in recurrent layers are deprecated. Use `input_shape` instead.\n",
      "  \n",
      "/Users/apple/anaconda3/lib/python3.7/site-packages/ipykernel_launcher.py:6: UserWarning: Update your `LSTM` call to the Keras 2 API: `LSTM(return_sequences=True, input_shape=(None, 1), units=50)`\n",
      "  \n",
      "/Users/apple/anaconda3/lib/python3.7/site-packages/ipykernel_launcher.py:15: UserWarning: Update your `Dense` call to the Keras 2 API: `Dense(units=1)`\n",
      "  from ipykernel import kernelapp as app\n"
     ]
    }
   ],
   "source": [
    "model = Sequential()\n",
    "\n",
    "model.add(LSTM(\n",
    "    input_dim=1,\n",
    "    output_dim=50,\n",
    "    return_sequences=True))\n",
    "model.add(Dropout(0.2))\n",
    "\n",
    "model.add(LSTM(\n",
    "    100,\n",
    "    return_sequences=False))\n",
    "model.add(Dropout(0.2))\n",
    "\n",
    "model.add(Dense(\n",
    "    output_dim=1))\n",
    "model.add(Activation('linear'))\n",
    "\n",
    "ADAM = Adam(0.0005, beta_1=0.9, beta_2=0.999, amsgrad=False)\n",
    "model.compile(loss='mse', optimizer='ADAM')\n"
   ]
  },
  {
   "cell_type": "code",
   "execution_count": null,
   "metadata": {},
   "outputs": [],
   "source": []
  },
  {
   "cell_type": "code",
   "execution_count": 17,
   "metadata": {},
   "outputs": [
    {
     "name": "stderr",
     "output_type": "stream",
     "text": [
      "/Users/apple/anaconda3/lib/python3.7/site-packages/ipykernel_launcher.py:6: UserWarning: The `nb_epoch` argument in `fit` has been renamed `epochs`.\n",
      "  \n"
     ]
    },
    {
     "name": "stdout",
     "output_type": "stream",
     "text": [
      "Train on 1526 samples, validate on 81 samples\n",
      "Epoch 1/10\n",
      "1526/1526 [==============================] - 2s 2ms/step - loss: 604.6630 - val_loss: 179.9801\n",
      "Epoch 2/10\n",
      "1526/1526 [==============================] - 0s 92us/step - loss: 574.5789 - val_loss: 159.9449\n",
      "Epoch 3/10\n",
      "1526/1526 [==============================] - 0s 82us/step - loss: 522.9307 - val_loss: 125.4174\n",
      "Epoch 4/10\n",
      "1526/1526 [==============================] - 0s 239us/step - loss: 437.6741 - val_loss: 78.2459\n",
      "Epoch 5/10\n",
      "1526/1526 [==============================] - 0s 97us/step - loss: 327.7043 - val_loss: 34.5047\n",
      "Epoch 6/10\n",
      "1526/1526 [==============================] - 0s 182us/step - loss: 224.0196 - val_loss: 8.6658\n",
      "Epoch 7/10\n",
      "1526/1526 [==============================] - 0s 112us/step - loss: 148.5374 - val_loss: 0.5793\n",
      "Epoch 8/10\n",
      "1526/1526 [==============================] - 0s 96us/step - loss: 102.9243 - val_loss: 2.6971\n",
      "Epoch 9/10\n",
      "1526/1526 [==============================] - 0s 82us/step - loss: 73.1687 - val_loss: 9.2753\n",
      "Epoch 10/10\n",
      "1526/1526 [==============================] - 0s 142us/step - loss: 55.9494 - val_loss: 17.5639\n"
     ]
    },
    {
     "data": {
      "text/plain": [
       "<keras.callbacks.callbacks.History at 0x112516860>"
      ]
     },
     "execution_count": 17,
     "metadata": {},
     "output_type": "execute_result"
    }
   ],
   "source": [
    "model.fit(\n",
    "    trainX,\n",
    "    trainY,\n",
    "    batch_size=128,\n",
    "    nb_epoch=10,\n",
    "    validation_split=0.05)"
   ]
  },
  {
   "cell_type": "code",
   "execution_count": null,
   "metadata": {},
   "outputs": [],
   "source": []
  },
  {
   "cell_type": "code",
   "execution_count": 18,
   "metadata": {},
   "outputs": [],
   "source": [
    "def plot_results_multiple(predicted_data, true_data,length):\n",
    "    plt.plot(scaler.inverse_transform(true_data.reshape(-1, 1))[length:])\n",
    "    plt.plot(scaler.inverse_transform(np.array(predicted_data).reshape(-1, 1))[length:])\n",
    "    plt.show()"
   ]
  },
  {
   "cell_type": "code",
   "execution_count": null,
   "metadata": {},
   "outputs": [],
   "source": []
  },
  {
   "cell_type": "code",
   "execution_count": 21,
   "metadata": {},
   "outputs": [],
   "source": [
    "from numpy import newaxis"
   ]
  },
  {
   "cell_type": "code",
   "execution_count": 22,
   "metadata": {},
   "outputs": [],
   "source": [
    "#predict lenght consecutive values from a real one\n",
    "def predict_sequences_multiple(model, firstValue,length):\n",
    "    prediction_seqs = []\n",
    "    curr_frame = firstValue\n",
    "    \n",
    "    for i in range(length): \n",
    "        predicted = []        \n",
    "        \n",
    "        print(model.predict(curr_frame[newaxis,:,:]))\n",
    "        predicted.append(model.predict(curr_frame[newaxis,:,:])[0,0])\n",
    "        \n",
    "        curr_frame = curr_frame[0:]\n",
    "        curr_frame = np.insert(curr_frame[0:], i+1, predicted[-1], axis=0)\n",
    "        \n",
    "        prediction_seqs.append(predicted[-1])\n",
    "        \n",
    "    return prediction_seqs"
   ]
  },
  {
   "cell_type": "markdown",
   "metadata": {},
   "source": [
    "#### unseen values"
   ]
  },
  {
   "cell_type": "code",
   "execution_count": 23,
   "metadata": {},
   "outputs": [
    {
     "name": "stdout",
     "output_type": "stream",
     "text": [
      "[[17.993477]]\n",
      "[[23.436394]]\n",
      "[[24.641006]]\n",
      "[[24.963497]]\n",
      "[[25.07502]]\n",
      "[[458.49002]\n",
      " [595.191  ]\n",
      " [625.44525]\n",
      " [633.54474]\n",
      " [636.3457 ]]\n"
     ]
    },
    {
     "data": {
      "image/png": "[encoded data removed]",
      "text/plain": [
       "<Figure size 432x288 with 1 Axes>"
      ]
     },
     "metadata": {},
     "output_type": "display_data"
    }
   ],
   "source": [
    "predict_length=5\n",
    "predictions = predict_sequences_multiple(model, testX[0], predict_length)\n",
    "print(scaler.inverse_transform(np.array(predictions).reshape(-1, 1)))\n",
    "plot_results_multiple(predictions, testY, predict_length)"
   ]
  },
  {
   "cell_type": "code",
   "execution_count": null,
   "metadata": {},
   "outputs": [],
   "source": []
  },
  {
   "cell_type": "code",
   "execution_count": null,
   "metadata": {},
   "outputs": [],
   "source": []
  }
 ],
 "metadata": {
  "kernelspec": {
   "display_name": "Python 3 (ipykernel)",
   "language": "python",
   "name": "python3"
  },
  "language_info": {
   "codemirror_mode": {
    "name": "ipython",
    "version": 3
   },
   "file_extension": ".py",
   "mimetype": "text/x-python",
   "name": "python",
   "nbconvert_exporter": "python",
   "pygments_lexer": "ipython3",
   "version": "3.8.16"
  }
 },
 "nbformat": 4,
 "nbformat_minor": 2
}
